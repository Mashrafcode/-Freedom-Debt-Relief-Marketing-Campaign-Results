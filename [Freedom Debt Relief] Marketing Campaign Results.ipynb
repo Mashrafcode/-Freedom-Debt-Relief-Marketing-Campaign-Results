{
 "cells": [
  {
   "cell_type": "markdown",
   "id": "b9d33f93",
   "metadata": {},
   "source": [
    "# <div align=\"center\">[Freedom Debt Relief] Marketing Campaign Results\n",
    "<img src=\"download (1).jpg\" style=\"width:500px;\"/>"
   ]
  },
  {
   "cell_type": "markdown",
   "id": "cadafaf1",
   "metadata": {},
   "source": [
    "##  __[SOURCE: Stratascratch](https://www.stratascratch.com/)__\n",
    "## <i>Problem Statement </i>\n",
    "\n",
    "Imagine that Freedom ran a recent marketing campaign to promote the value proposition of how the debt relief program helps people achieve financial freedom. Assume the cost of this campaign was $5 million. There are five months of data in the datasets provided. Let’s say campaign took place over the course of the third month. You now want to show the marketing, sales and operations teams just how successful this campaign was.\n",
    "\n",
    "Using the three datasets given:\n",
    "\n",
    "* Provide a quantitative assessment of whether the marketing campaign was successful. How and why did you choose your specific success metric(s)?\n",
    "\n",
    "* Based on the provided data, how would you recommend campaign strategy be adjusted in the future to improve performance?\n",
    "\n",
    "* How do you think campaign performance would have changed if we did not run the campaign in Month 3, but instead postponed it until month 6? Provide an incremental number versus your result in Question #1.\n",
    "\n",
    "Assume the following:\n",
    "\n",
    "* There is no seasonality in the results, and the campaign spend was distributed evenly across Month 3 (i.e., spend on the first day is the same as spend on the last day).\n",
    "* Channel mix, targeting, and efficiency are outside the scope of this exercise.\n",
    "* There may be data provided that is not useful in your end presentation"
   ]
  },
  {
   "cell_type": "markdown",
   "id": "2cae0ba0",
   "metadata": {},
   "source": [
    "## Exploratory Data Analysis"
   ]
  },
  {
   "cell_type": "code",
   "execution_count": 1,
   "id": "0616ad27",
   "metadata": {},
   "outputs": [],
   "source": [
    "import pandas as pd"
   ]
  },
  {
   "cell_type": "code",
   "execution_count": 2,
   "id": "1c3873c5",
   "metadata": {},
   "outputs": [
    {
     "name": "stdout",
     "output_type": "stream",
     "text": [
      "Client data shape (46347, 4)\n"
     ]
    },
    {
     "data": {
      "text/html": [
       "<div>\n",
       "<style scoped>\n",
       "    .dataframe tbody tr th:only-of-type {\n",
       "        vertical-align: middle;\n",
       "    }\n",
       "\n",
       "    .dataframe tbody tr th {\n",
       "        vertical-align: top;\n",
       "    }\n",
       "\n",
       "    .dataframe thead th {\n",
       "        text-align: right;\n",
       "    }\n",
       "</style>\n",
       "<table border=\"1\" class=\"dataframe\">\n",
       "  <thead>\n",
       "    <tr style=\"text-align: right;\">\n",
       "      <th></th>\n",
       "      <th>client_id</th>\n",
       "      <th>client_geographical_region</th>\n",
       "      <th>client_residence_status</th>\n",
       "      <th>client_age</th>\n",
       "    </tr>\n",
       "  </thead>\n",
       "  <tbody>\n",
       "    <tr>\n",
       "      <th>0</th>\n",
       "      <td>538839486596724</td>\n",
       "      <td>Northeast</td>\n",
       "      <td>Rent</td>\n",
       "      <td>91</td>\n",
       "    </tr>\n",
       "    <tr>\n",
       "      <th>1</th>\n",
       "      <td>321708286091707</td>\n",
       "      <td>West</td>\n",
       "      <td>Own</td>\n",
       "      <td>83</td>\n",
       "    </tr>\n",
       "    <tr>\n",
       "      <th>2</th>\n",
       "      <td>848531901757235</td>\n",
       "      <td>Midwest</td>\n",
       "      <td>Own</td>\n",
       "      <td>84</td>\n",
       "    </tr>\n",
       "    <tr>\n",
       "      <th>3</th>\n",
       "      <td>854405182328779</td>\n",
       "      <td>Northeast</td>\n",
       "      <td>Own</td>\n",
       "      <td>83</td>\n",
       "    </tr>\n",
       "    <tr>\n",
       "      <th>4</th>\n",
       "      <td>769102176031316</td>\n",
       "      <td>West</td>\n",
       "      <td>Own</td>\n",
       "      <td>85</td>\n",
       "    </tr>\n",
       "  </tbody>\n",
       "</table>\n",
       "</div>"
      ],
      "text/plain": [
       "         client_id client_geographical_region client_residence_status  \\\n",
       "0  538839486596724                  Northeast                    Rent   \n",
       "1  321708286091707                       West                     Own   \n",
       "2  848531901757235                    Midwest                     Own   \n",
       "3  854405182328779                  Northeast                     Own   \n",
       "4  769102176031316                       West                     Own   \n",
       "\n",
       "   client_age  \n",
       "0          91  \n",
       "1          83  \n",
       "2          84  \n",
       "3          83  \n",
       "4          85  "
      ]
     },
     "execution_count": 2,
     "metadata": {},
     "output_type": "execute_result"
    }
   ],
   "source": [
    "client_data = pd.read_csv(\"client_data.csv\")\n",
    "print(\"Client data shape\", client_data.shape)\n",
    "client_data.head()"
   ]
  },
  {
   "cell_type": "code",
   "execution_count": 3,
   "id": "b830ab50",
   "metadata": {},
   "outputs": [
    {
     "name": "stdout",
     "output_type": "stream",
     "text": [
      "Deposit data shape (480394, 5)\n"
     ]
    },
    {
     "data": {
      "text/html": [
       "<div>\n",
       "<style scoped>\n",
       "    .dataframe tbody tr th:only-of-type {\n",
       "        vertical-align: middle;\n",
       "    }\n",
       "\n",
       "    .dataframe tbody tr th {\n",
       "        vertical-align: top;\n",
       "    }\n",
       "\n",
       "    .dataframe thead th {\n",
       "        text-align: right;\n",
       "    }\n",
       "</style>\n",
       "<table border=\"1\" class=\"dataframe\">\n",
       "  <thead>\n",
       "    <tr style=\"text-align: right;\">\n",
       "      <th></th>\n",
       "      <th>client_id</th>\n",
       "      <th>deposit_type</th>\n",
       "      <th>deposit_amount</th>\n",
       "      <th>deposit_cadence</th>\n",
       "      <th>deposit_date</th>\n",
       "    </tr>\n",
       "  </thead>\n",
       "  <tbody>\n",
       "    <tr>\n",
       "      <th>0</th>\n",
       "      <td>446495122764671</td>\n",
       "      <td>Actual Deposit</td>\n",
       "      <td>303.0</td>\n",
       "      <td>Monthly</td>\n",
       "      <td>2019-10-23</td>\n",
       "    </tr>\n",
       "    <tr>\n",
       "      <th>1</th>\n",
       "      <td>446495122764671</td>\n",
       "      <td>Actual Deposit</td>\n",
       "      <td>303.0</td>\n",
       "      <td>Monthly</td>\n",
       "      <td>2019-09-23</td>\n",
       "    </tr>\n",
       "    <tr>\n",
       "      <th>2</th>\n",
       "      <td>446495122764671</td>\n",
       "      <td>Scheduled Deposit</td>\n",
       "      <td>303.0</td>\n",
       "      <td>Monthly</td>\n",
       "      <td>2019-09-23</td>\n",
       "    </tr>\n",
       "    <tr>\n",
       "      <th>3</th>\n",
       "      <td>446495122764671</td>\n",
       "      <td>Scheduled Deposit</td>\n",
       "      <td>303.0</td>\n",
       "      <td>Monthly</td>\n",
       "      <td>2019-10-23</td>\n",
       "    </tr>\n",
       "    <tr>\n",
       "      <th>4</th>\n",
       "      <td>446495122764671</td>\n",
       "      <td>Scheduled Deposit</td>\n",
       "      <td>303.0</td>\n",
       "      <td>Monthly</td>\n",
       "      <td>2019-06-23</td>\n",
       "    </tr>\n",
       "  </tbody>\n",
       "</table>\n",
       "</div>"
      ],
      "text/plain": [
       "         client_id       deposit_type  deposit_amount deposit_cadence  \\\n",
       "0  446495122764671     Actual Deposit           303.0         Monthly   \n",
       "1  446495122764671     Actual Deposit           303.0         Monthly   \n",
       "2  446495122764671  Scheduled Deposit           303.0         Monthly   \n",
       "3  446495122764671  Scheduled Deposit           303.0         Monthly   \n",
       "4  446495122764671  Scheduled Deposit           303.0         Monthly   \n",
       "\n",
       "  deposit_date  \n",
       "0   2019-10-23  \n",
       "1   2019-09-23  \n",
       "2   2019-09-23  \n",
       "3   2019-10-23  \n",
       "4   2019-06-23  "
      ]
     },
     "execution_count": 3,
     "metadata": {},
     "output_type": "execute_result"
    }
   ],
   "source": [
    "deposit_data = pd.read_csv(\"deposit_data.csv\")\n",
    "print(\"Deposit data shape\", deposit_data.shape)\n",
    "deposit_data.head()"
   ]
  },
  {
   "cell_type": "code",
   "execution_count": 4,
   "id": "530b7cd8",
   "metadata": {},
   "outputs": [
    {
     "name": "stdout",
     "output_type": "stream",
     "text": [
      "Calendar data shape (153, 2)\n"
     ]
    },
    {
     "data": {
      "text/html": [
       "<div>\n",
       "<style scoped>\n",
       "    .dataframe tbody tr th:only-of-type {\n",
       "        vertical-align: middle;\n",
       "    }\n",
       "\n",
       "    .dataframe tbody tr th {\n",
       "        vertical-align: top;\n",
       "    }\n",
       "\n",
       "    .dataframe thead th {\n",
       "        text-align: right;\n",
       "    }\n",
       "</style>\n",
       "<table border=\"1\" class=\"dataframe\">\n",
       "  <thead>\n",
       "    <tr style=\"text-align: right;\">\n",
       "      <th></th>\n",
       "      <th>gregorian_date</th>\n",
       "      <th>month_name</th>\n",
       "    </tr>\n",
       "  </thead>\n",
       "  <tbody>\n",
       "    <tr>\n",
       "      <th>0</th>\n",
       "      <td>2019-06-01</td>\n",
       "      <td>Month 1</td>\n",
       "    </tr>\n",
       "    <tr>\n",
       "      <th>1</th>\n",
       "      <td>2019-06-02</td>\n",
       "      <td>Month 1</td>\n",
       "    </tr>\n",
       "    <tr>\n",
       "      <th>2</th>\n",
       "      <td>2019-06-03</td>\n",
       "      <td>Month 1</td>\n",
       "    </tr>\n",
       "    <tr>\n",
       "      <th>3</th>\n",
       "      <td>2019-06-04</td>\n",
       "      <td>Month 1</td>\n",
       "    </tr>\n",
       "    <tr>\n",
       "      <th>4</th>\n",
       "      <td>2019-06-05</td>\n",
       "      <td>Month 1</td>\n",
       "    </tr>\n",
       "  </tbody>\n",
       "</table>\n",
       "</div>"
      ],
      "text/plain": [
       "  gregorian_date month_name\n",
       "0     2019-06-01    Month 1\n",
       "1     2019-06-02    Month 1\n",
       "2     2019-06-03    Month 1\n",
       "3     2019-06-04    Month 1\n",
       "4     2019-06-05    Month 1"
      ]
     },
     "execution_count": 4,
     "metadata": {},
     "output_type": "execute_result"
    }
   ],
   "source": [
    "calendar_data = pd.read_csv(\"calendar_data.csv\")\n",
    "print(\"Calendar data shape\", calendar_data.shape)\n",
    "calendar_data.head()"
   ]
  },
  {
   "cell_type": "markdown",
   "id": "0cdf5c4e",
   "metadata": {},
   "source": [
    "We will execute the merging in two steps:\n",
    "\n",
    "1. Merge the client and the deposit data frames on the client ID column\n",
    "2. Merge the resulting data frame from Step 1. with the calendar data set on the deposit / Gregorian date"
   ]
  },
  {
   "cell_type": "code",
   "execution_count": 5,
   "id": "8ba4a18c",
   "metadata": {},
   "outputs": [],
   "source": [
    "# step 1.\n",
    "df = client_data.merge(deposit_data, on=\"client_id\")"
   ]
  },
  {
   "cell_type": "code",
   "execution_count": 6,
   "id": "e80e3e33",
   "metadata": {},
   "outputs": [],
   "source": [
    "# step 2.\n",
    "df = df.merge(calendar_data, left_on=\"deposit_date\", right_on=\"gregorian_date\", copy=False)"
   ]
  },
  {
   "cell_type": "code",
   "execution_count": 7,
   "id": "e1d53927",
   "metadata": {},
   "outputs": [
    {
     "data": {
      "text/html": [
       "<div>\n",
       "<style scoped>\n",
       "    .dataframe tbody tr th:only-of-type {\n",
       "        vertical-align: middle;\n",
       "    }\n",
       "\n",
       "    .dataframe tbody tr th {\n",
       "        vertical-align: top;\n",
       "    }\n",
       "\n",
       "    .dataframe thead th {\n",
       "        text-align: right;\n",
       "    }\n",
       "</style>\n",
       "<table border=\"1\" class=\"dataframe\">\n",
       "  <thead>\n",
       "    <tr style=\"text-align: right;\">\n",
       "      <th></th>\n",
       "      <th>client_id</th>\n",
       "      <th>client_geographical_region</th>\n",
       "      <th>client_residence_status</th>\n",
       "      <th>client_age</th>\n",
       "      <th>deposit_type</th>\n",
       "      <th>deposit_amount</th>\n",
       "      <th>deposit_cadence</th>\n",
       "      <th>deposit_date</th>\n",
       "      <th>gregorian_date</th>\n",
       "      <th>month_name</th>\n",
       "    </tr>\n",
       "  </thead>\n",
       "  <tbody>\n",
       "    <tr>\n",
       "      <th>0</th>\n",
       "      <td>538839486596724</td>\n",
       "      <td>Northeast</td>\n",
       "      <td>Rent</td>\n",
       "      <td>91</td>\n",
       "      <td>Actual Deposit</td>\n",
       "      <td>10000.0</td>\n",
       "      <td>Extra</td>\n",
       "      <td>2019-07-11</td>\n",
       "      <td>2019-07-11</td>\n",
       "      <td>Month 2</td>\n",
       "    </tr>\n",
       "    <tr>\n",
       "      <th>1</th>\n",
       "      <td>773610304672603</td>\n",
       "      <td>West</td>\n",
       "      <td>Rent</td>\n",
       "      <td>24</td>\n",
       "      <td>Scheduled Deposit</td>\n",
       "      <td>100.0</td>\n",
       "      <td>Biweekly</td>\n",
       "      <td>2019-07-11</td>\n",
       "      <td>2019-07-11</td>\n",
       "      <td>Month 2</td>\n",
       "    </tr>\n",
       "    <tr>\n",
       "      <th>2</th>\n",
       "      <td>773610304672603</td>\n",
       "      <td>West</td>\n",
       "      <td>Rent</td>\n",
       "      <td>24</td>\n",
       "      <td>Actual Deposit</td>\n",
       "      <td>100.0</td>\n",
       "      <td>Biweekly</td>\n",
       "      <td>2019-07-11</td>\n",
       "      <td>2019-07-11</td>\n",
       "      <td>Month 2</td>\n",
       "    </tr>\n",
       "    <tr>\n",
       "      <th>3</th>\n",
       "      <td>552219454660531</td>\n",
       "      <td>West</td>\n",
       "      <td>Own</td>\n",
       "      <td>85</td>\n",
       "      <td>Scheduled Deposit</td>\n",
       "      <td>290.0</td>\n",
       "      <td>Biweekly</td>\n",
       "      <td>2019-07-11</td>\n",
       "      <td>2019-07-11</td>\n",
       "      <td>Month 2</td>\n",
       "    </tr>\n",
       "    <tr>\n",
       "      <th>4</th>\n",
       "      <td>55107102575545</td>\n",
       "      <td>Midwest</td>\n",
       "      <td>Own</td>\n",
       "      <td>83</td>\n",
       "      <td>Scheduled Deposit</td>\n",
       "      <td>438.0</td>\n",
       "      <td>Monthly</td>\n",
       "      <td>2019-07-11</td>\n",
       "      <td>2019-07-11</td>\n",
       "      <td>Month 2</td>\n",
       "    </tr>\n",
       "    <tr>\n",
       "      <th>...</th>\n",
       "      <td>...</td>\n",
       "      <td>...</td>\n",
       "      <td>...</td>\n",
       "      <td>...</td>\n",
       "      <td>...</td>\n",
       "      <td>...</td>\n",
       "      <td>...</td>\n",
       "      <td>...</td>\n",
       "      <td>...</td>\n",
       "      <td>...</td>\n",
       "    </tr>\n",
       "    <tr>\n",
       "      <th>480389</th>\n",
       "      <td>495905820523476</td>\n",
       "      <td>West</td>\n",
       "      <td>Own</td>\n",
       "      <td>80</td>\n",
       "      <td>Actual Deposit</td>\n",
       "      <td>920.0</td>\n",
       "      <td>Monthly</td>\n",
       "      <td>2019-07-20</td>\n",
       "      <td>2019-07-20</td>\n",
       "      <td>Month 2</td>\n",
       "    </tr>\n",
       "    <tr>\n",
       "      <th>480390</th>\n",
       "      <td>639239952445612</td>\n",
       "      <td>Northeast</td>\n",
       "      <td>Own</td>\n",
       "      <td>80</td>\n",
       "      <td>Scheduled Deposit</td>\n",
       "      <td>224.0</td>\n",
       "      <td>Monthly</td>\n",
       "      <td>2019-07-20</td>\n",
       "      <td>2019-07-20</td>\n",
       "      <td>Month 2</td>\n",
       "    </tr>\n",
       "    <tr>\n",
       "      <th>480391</th>\n",
       "      <td>639239952445612</td>\n",
       "      <td>Northeast</td>\n",
       "      <td>Own</td>\n",
       "      <td>80</td>\n",
       "      <td>Actual Deposit</td>\n",
       "      <td>224.0</td>\n",
       "      <td>Monthly</td>\n",
       "      <td>2019-07-20</td>\n",
       "      <td>2019-07-20</td>\n",
       "      <td>Month 2</td>\n",
       "    </tr>\n",
       "    <tr>\n",
       "      <th>480392</th>\n",
       "      <td>585677614443848</td>\n",
       "      <td>West</td>\n",
       "      <td>Own</td>\n",
       "      <td>80</td>\n",
       "      <td>Scheduled Deposit</td>\n",
       "      <td>438.0</td>\n",
       "      <td>Monthly</td>\n",
       "      <td>2019-07-20</td>\n",
       "      <td>2019-07-20</td>\n",
       "      <td>Month 2</td>\n",
       "    </tr>\n",
       "    <tr>\n",
       "      <th>480393</th>\n",
       "      <td>585677614443848</td>\n",
       "      <td>West</td>\n",
       "      <td>Own</td>\n",
       "      <td>80</td>\n",
       "      <td>Actual Deposit</td>\n",
       "      <td>438.0</td>\n",
       "      <td>Monthly</td>\n",
       "      <td>2019-07-20</td>\n",
       "      <td>2019-07-20</td>\n",
       "      <td>Month 2</td>\n",
       "    </tr>\n",
       "  </tbody>\n",
       "</table>\n",
       "<p>480394 rows × 10 columns</p>\n",
       "</div>"
      ],
      "text/plain": [
       "              client_id client_geographical_region client_residence_status  \\\n",
       "0       538839486596724                  Northeast                    Rent   \n",
       "1       773610304672603                       West                    Rent   \n",
       "2       773610304672603                       West                    Rent   \n",
       "3       552219454660531                       West                     Own   \n",
       "4        55107102575545                    Midwest                     Own   \n",
       "...                 ...                        ...                     ...   \n",
       "480389  495905820523476                       West                     Own   \n",
       "480390  639239952445612                  Northeast                     Own   \n",
       "480391  639239952445612                  Northeast                     Own   \n",
       "480392  585677614443848                       West                     Own   \n",
       "480393  585677614443848                       West                     Own   \n",
       "\n",
       "        client_age       deposit_type  deposit_amount deposit_cadence  \\\n",
       "0               91     Actual Deposit         10000.0           Extra   \n",
       "1               24  Scheduled Deposit           100.0        Biweekly   \n",
       "2               24     Actual Deposit           100.0        Biweekly   \n",
       "3               85  Scheduled Deposit           290.0        Biweekly   \n",
       "4               83  Scheduled Deposit           438.0         Monthly   \n",
       "...            ...                ...             ...             ...   \n",
       "480389          80     Actual Deposit           920.0         Monthly   \n",
       "480390          80  Scheduled Deposit           224.0         Monthly   \n",
       "480391          80     Actual Deposit           224.0         Monthly   \n",
       "480392          80  Scheduled Deposit           438.0         Monthly   \n",
       "480393          80     Actual Deposit           438.0         Monthly   \n",
       "\n",
       "       deposit_date gregorian_date month_name  \n",
       "0        2019-07-11     2019-07-11    Month 2  \n",
       "1        2019-07-11     2019-07-11    Month 2  \n",
       "2        2019-07-11     2019-07-11    Month 2  \n",
       "3        2019-07-11     2019-07-11    Month 2  \n",
       "4        2019-07-11     2019-07-11    Month 2  \n",
       "...             ...            ...        ...  \n",
       "480389   2019-07-20     2019-07-20    Month 2  \n",
       "480390   2019-07-20     2019-07-20    Month 2  \n",
       "480391   2019-07-20     2019-07-20    Month 2  \n",
       "480392   2019-07-20     2019-07-20    Month 2  \n",
       "480393   2019-07-20     2019-07-20    Month 2  \n",
       "\n",
       "[480394 rows x 10 columns]"
      ]
     },
     "execution_count": 7,
     "metadata": {},
     "output_type": "execute_result"
    }
   ],
   "source": [
    "df"
   ]
  },
  {
   "cell_type": "markdown",
   "id": "131024b2",
   "metadata": {},
   "source": [
    "In the resulting data frame we have the date column twice; once as a gregorian date and the second time as a deposit date. We drop the former column."
   ]
  },
  {
   "cell_type": "code",
   "execution_count": 8,
   "id": "9fd3d2eb",
   "metadata": {},
   "outputs": [
    {
     "data": {
      "text/html": [
       "<div>\n",
       "<style scoped>\n",
       "    .dataframe tbody tr th:only-of-type {\n",
       "        vertical-align: middle;\n",
       "    }\n",
       "\n",
       "    .dataframe tbody tr th {\n",
       "        vertical-align: top;\n",
       "    }\n",
       "\n",
       "    .dataframe thead th {\n",
       "        text-align: right;\n",
       "    }\n",
       "</style>\n",
       "<table border=\"1\" class=\"dataframe\">\n",
       "  <thead>\n",
       "    <tr style=\"text-align: right;\">\n",
       "      <th></th>\n",
       "      <th>client_id</th>\n",
       "      <th>client_geographical_region</th>\n",
       "      <th>client_residence_status</th>\n",
       "      <th>client_age</th>\n",
       "      <th>deposit_type</th>\n",
       "      <th>deposit_amount</th>\n",
       "      <th>deposit_cadence</th>\n",
       "      <th>deposit_date</th>\n",
       "      <th>month_name</th>\n",
       "    </tr>\n",
       "  </thead>\n",
       "  <tbody>\n",
       "    <tr>\n",
       "      <th>0</th>\n",
       "      <td>538839486596724</td>\n",
       "      <td>Northeast</td>\n",
       "      <td>Rent</td>\n",
       "      <td>91</td>\n",
       "      <td>Actual Deposit</td>\n",
       "      <td>10000.0</td>\n",
       "      <td>Extra</td>\n",
       "      <td>2019-07-11</td>\n",
       "      <td>Month 2</td>\n",
       "    </tr>\n",
       "    <tr>\n",
       "      <th>1</th>\n",
       "      <td>773610304672603</td>\n",
       "      <td>West</td>\n",
       "      <td>Rent</td>\n",
       "      <td>24</td>\n",
       "      <td>Scheduled Deposit</td>\n",
       "      <td>100.0</td>\n",
       "      <td>Biweekly</td>\n",
       "      <td>2019-07-11</td>\n",
       "      <td>Month 2</td>\n",
       "    </tr>\n",
       "    <tr>\n",
       "      <th>2</th>\n",
       "      <td>773610304672603</td>\n",
       "      <td>West</td>\n",
       "      <td>Rent</td>\n",
       "      <td>24</td>\n",
       "      <td>Actual Deposit</td>\n",
       "      <td>100.0</td>\n",
       "      <td>Biweekly</td>\n",
       "      <td>2019-07-11</td>\n",
       "      <td>Month 2</td>\n",
       "    </tr>\n",
       "    <tr>\n",
       "      <th>3</th>\n",
       "      <td>552219454660531</td>\n",
       "      <td>West</td>\n",
       "      <td>Own</td>\n",
       "      <td>85</td>\n",
       "      <td>Scheduled Deposit</td>\n",
       "      <td>290.0</td>\n",
       "      <td>Biweekly</td>\n",
       "      <td>2019-07-11</td>\n",
       "      <td>Month 2</td>\n",
       "    </tr>\n",
       "    <tr>\n",
       "      <th>4</th>\n",
       "      <td>55107102575545</td>\n",
       "      <td>Midwest</td>\n",
       "      <td>Own</td>\n",
       "      <td>83</td>\n",
       "      <td>Scheduled Deposit</td>\n",
       "      <td>438.0</td>\n",
       "      <td>Monthly</td>\n",
       "      <td>2019-07-11</td>\n",
       "      <td>Month 2</td>\n",
       "    </tr>\n",
       "    <tr>\n",
       "      <th>...</th>\n",
       "      <td>...</td>\n",
       "      <td>...</td>\n",
       "      <td>...</td>\n",
       "      <td>...</td>\n",
       "      <td>...</td>\n",
       "      <td>...</td>\n",
       "      <td>...</td>\n",
       "      <td>...</td>\n",
       "      <td>...</td>\n",
       "    </tr>\n",
       "    <tr>\n",
       "      <th>480389</th>\n",
       "      <td>495905820523476</td>\n",
       "      <td>West</td>\n",
       "      <td>Own</td>\n",
       "      <td>80</td>\n",
       "      <td>Actual Deposit</td>\n",
       "      <td>920.0</td>\n",
       "      <td>Monthly</td>\n",
       "      <td>2019-07-20</td>\n",
       "      <td>Month 2</td>\n",
       "    </tr>\n",
       "    <tr>\n",
       "      <th>480390</th>\n",
       "      <td>639239952445612</td>\n",
       "      <td>Northeast</td>\n",
       "      <td>Own</td>\n",
       "      <td>80</td>\n",
       "      <td>Scheduled Deposit</td>\n",
       "      <td>224.0</td>\n",
       "      <td>Monthly</td>\n",
       "      <td>2019-07-20</td>\n",
       "      <td>Month 2</td>\n",
       "    </tr>\n",
       "    <tr>\n",
       "      <th>480391</th>\n",
       "      <td>639239952445612</td>\n",
       "      <td>Northeast</td>\n",
       "      <td>Own</td>\n",
       "      <td>80</td>\n",
       "      <td>Actual Deposit</td>\n",
       "      <td>224.0</td>\n",
       "      <td>Monthly</td>\n",
       "      <td>2019-07-20</td>\n",
       "      <td>Month 2</td>\n",
       "    </tr>\n",
       "    <tr>\n",
       "      <th>480392</th>\n",
       "      <td>585677614443848</td>\n",
       "      <td>West</td>\n",
       "      <td>Own</td>\n",
       "      <td>80</td>\n",
       "      <td>Scheduled Deposit</td>\n",
       "      <td>438.0</td>\n",
       "      <td>Monthly</td>\n",
       "      <td>2019-07-20</td>\n",
       "      <td>Month 2</td>\n",
       "    </tr>\n",
       "    <tr>\n",
       "      <th>480393</th>\n",
       "      <td>585677614443848</td>\n",
       "      <td>West</td>\n",
       "      <td>Own</td>\n",
       "      <td>80</td>\n",
       "      <td>Actual Deposit</td>\n",
       "      <td>438.0</td>\n",
       "      <td>Monthly</td>\n",
       "      <td>2019-07-20</td>\n",
       "      <td>Month 2</td>\n",
       "    </tr>\n",
       "  </tbody>\n",
       "</table>\n",
       "<p>480394 rows × 9 columns</p>\n",
       "</div>"
      ],
      "text/plain": [
       "              client_id client_geographical_region client_residence_status  \\\n",
       "0       538839486596724                  Northeast                    Rent   \n",
       "1       773610304672603                       West                    Rent   \n",
       "2       773610304672603                       West                    Rent   \n",
       "3       552219454660531                       West                     Own   \n",
       "4        55107102575545                    Midwest                     Own   \n",
       "...                 ...                        ...                     ...   \n",
       "480389  495905820523476                       West                     Own   \n",
       "480390  639239952445612                  Northeast                     Own   \n",
       "480391  639239952445612                  Northeast                     Own   \n",
       "480392  585677614443848                       West                     Own   \n",
       "480393  585677614443848                       West                     Own   \n",
       "\n",
       "        client_age       deposit_type  deposit_amount deposit_cadence  \\\n",
       "0               91     Actual Deposit         10000.0           Extra   \n",
       "1               24  Scheduled Deposit           100.0        Biweekly   \n",
       "2               24     Actual Deposit           100.0        Biweekly   \n",
       "3               85  Scheduled Deposit           290.0        Biweekly   \n",
       "4               83  Scheduled Deposit           438.0         Monthly   \n",
       "...            ...                ...             ...             ...   \n",
       "480389          80     Actual Deposit           920.0         Monthly   \n",
       "480390          80  Scheduled Deposit           224.0         Monthly   \n",
       "480391          80     Actual Deposit           224.0         Monthly   \n",
       "480392          80  Scheduled Deposit           438.0         Monthly   \n",
       "480393          80     Actual Deposit           438.0         Monthly   \n",
       "\n",
       "       deposit_date month_name  \n",
       "0        2019-07-11    Month 2  \n",
       "1        2019-07-11    Month 2  \n",
       "2        2019-07-11    Month 2  \n",
       "3        2019-07-11    Month 2  \n",
       "4        2019-07-11    Month 2  \n",
       "...             ...        ...  \n",
       "480389   2019-07-20    Month 2  \n",
       "480390   2019-07-20    Month 2  \n",
       "480391   2019-07-20    Month 2  \n",
       "480392   2019-07-20    Month 2  \n",
       "480393   2019-07-20    Month 2  \n",
       "\n",
       "[480394 rows x 9 columns]"
      ]
     },
     "execution_count": 8,
     "metadata": {},
     "output_type": "execute_result"
    }
   ],
   "source": [
    "df.drop(columns=\"gregorian_date\", inplace=True)\n",
    "df"
   ]
  },
  {
   "cell_type": "markdown",
   "id": "bc4f9315",
   "metadata": {},
   "source": [
    "Let us start exploring this data set. We can dive deeper into the properties of each column."
   ]
  },
  {
   "cell_type": "code",
   "execution_count": 9,
   "id": "7b8536bc",
   "metadata": {},
   "outputs": [
    {
     "data": {
      "text/plain": [
       "West         205629\n",
       "South        108004\n",
       "Midwest       88185\n",
       "Northeast     78576\n",
       "Name: client_geographical_region, dtype: int64"
      ]
     },
     "execution_count": 9,
     "metadata": {},
     "output_type": "execute_result"
    }
   ],
   "source": [
    "df[\"client_geographical_region\"].value_counts()"
   ]
  },
  {
   "cell_type": "code",
   "execution_count": 10,
   "id": "d56e2826",
   "metadata": {},
   "outputs": [
    {
     "data": {
      "text/plain": [
       "Own     345432\n",
       "Rent    134962\n",
       "Name: client_residence_status, dtype: int64"
      ]
     },
     "execution_count": 10,
     "metadata": {},
     "output_type": "execute_result"
    }
   ],
   "source": [
    "df[\"client_residence_status\"].value_counts()"
   ]
  },
  {
   "cell_type": "code",
   "execution_count": 11,
   "id": "636dd16c",
   "metadata": {},
   "outputs": [
    {
     "data": {
      "text/plain": [
       "count    480394.000000\n",
       "mean         52.192469\n",
       "std          13.773928\n",
       "min          21.000000\n",
       "25%          41.000000\n",
       "50%          52.000000\n",
       "75%          62.000000\n",
       "max         105.000000\n",
       "Name: client_age, dtype: float64"
      ]
     },
     "execution_count": 11,
     "metadata": {},
     "output_type": "execute_result"
    }
   ],
   "source": [
    "df[\"client_age\"].describe()"
   ]
  },
  {
   "cell_type": "code",
   "execution_count": 12,
   "id": "ab18971c",
   "metadata": {},
   "outputs": [
    {
     "data": {
      "image/png": "[encoded data removed]",
      "text/plain": [
       "<Figure size 432x288 with 1 Axes>"
      ]
     },
     "metadata": {
      "needs_background": "light"
     },
     "output_type": "display_data"
    }
   ],
   "source": [
    "_ = client_data[[\"client_age\"]].plot(kind=\"hist\")"
   ]
  },
  {
   "cell_type": "markdown",
   "id": "6cfc4f04",
   "metadata": {},
   "source": [
    "We have five months' worth of data. Months 1 and 4 have 30 days each, the rest have 31 days."
   ]
  },
  {
   "cell_type": "code",
   "execution_count": 13,
   "id": "ea42bbf9",
   "metadata": {},
   "outputs": [
    {
     "data": {
      "text/plain": [
       "Month 2    31\n",
       "Month 3    31\n",
       "Month 5    31\n",
       "Month 1    30\n",
       "Month 4    30\n",
       "Name: month_name, dtype: int64"
      ]
     },
     "execution_count": 13,
     "metadata": {},
     "output_type": "execute_result"
    }
   ],
   "source": [
    "calendar_data[\"month_name\"].value_counts()"
   ]
  },
  {
   "cell_type": "markdown",
   "id": "d0d4adc6",
   "metadata": {},
   "source": [
    "The data spans from June 01, 2019, up to the last day of October 2019.\n"
   ]
  },
  {
   "cell_type": "code",
   "execution_count": 14,
   "id": "04f77316",
   "metadata": {},
   "outputs": [
    {
     "data": {
      "text/plain": [
       "('2019-06-01', '2019-10-31')"
      ]
     },
     "execution_count": 14,
     "metadata": {},
     "output_type": "execute_result"
    }
   ],
   "source": [
    "df[\"deposit_date\"].min(), df[\"deposit_date\"].max()"
   ]
  },
  {
   "cell_type": "markdown",
   "id": "aac4612c",
   "metadata": {},
   "source": [
    "We continue to explore the type and cadence of the deposits."
   ]
  },
  {
   "cell_type": "code",
   "execution_count": 15,
   "id": "7ee71daf",
   "metadata": {},
   "outputs": [
    {
     "data": {
      "text/plain": [
       "Scheduled Deposit    247986\n",
       "Actual Deposit       232408\n",
       "Name: deposit_type, dtype: int64"
      ]
     },
     "execution_count": 15,
     "metadata": {},
     "output_type": "execute_result"
    }
   ],
   "source": [
    "df[\"deposit_type\"].value_counts()"
   ]
  },
  {
   "cell_type": "code",
   "execution_count": 16,
   "id": "e16b7d70",
   "metadata": {},
   "outputs": [
    {
     "data": {
      "text/plain": [
       "Monthly     262858\n",
       "Biweekly    209189\n",
       "Extra         8347\n",
       "Name: deposit_cadence, dtype: int64"
      ]
     },
     "execution_count": 16,
     "metadata": {},
     "output_type": "execute_result"
    }
   ],
   "source": [
    "df[\"deposit_cadence\"].value_counts()"
   ]
  },
  {
   "cell_type": "markdown",
   "id": "6c718c06",
   "metadata": {},
   "source": [
    "We now turn our attention to the deposit amount. The plot below plots the sum of all the deposits grouped by the month."
   ]
  },
  {
   "cell_type": "code",
   "execution_count": 17,
   "id": "9c82bd40",
   "metadata": {},
   "outputs": [],
   "source": [
    "# convert the date column type to a datetime object\n",
    "df[\"deposit_date\"] = pd.to_datetime(df[\"deposit_date\"])"
   ]
  },
  {
   "cell_type": "code",
   "execution_count": 18,
   "id": "d9fe7f1f",
   "metadata": {},
   "outputs": [],
   "source": [
    "from matplotlib import pyplot as plt\n",
    "\n",
    "plt.rcParams[\"figure.figsize\"] = (10, 7)"
   ]
  },
  {
   "cell_type": "code",
   "execution_count": 19,
   "id": "dd78e713",
   "metadata": {},
   "outputs": [
    {
     "name": "stdout",
     "output_type": "stream",
     "text": [
      "month_name\n",
      "Month 1    29284830.86\n",
      "Month 2    29886431.27\n",
      "Month 3    39675057.10\n",
      "Month 4    38515819.73\n",
      "Month 5    38081175.23\n",
      "Name: deposit_amount, dtype: float64\n"
     ]
    },
    {
     "data": {
      "image/png": "[encoded data removed]",
      "text/plain": [
       "<Figure size 720x504 with 1 Axes>"
      ]
     },
     "metadata": {
      "needs_background": "light"
     },
     "output_type": "display_data"
    }
   ],
   "source": [
    "deposit_amount_by_month = df.groupby(by=df[\"month_name\"])[\"deposit_amount\"].sum()\n",
    "\n",
    "print(deposit_amount_by_month)\n",
    "\n",
    "_ = plt.plot(deposit_amount_by_month)\n",
    "_ = plt.title(\"Deposit amount per month\")\n",
    "_ = plt.ylabel(\"Deposit amount\")\n",
    "_ = plt.xlabel(\"Month\")"
   ]
  },
  {
   "cell_type": "code",
   "execution_count": 20,
   "id": "34b0f2ed",
   "metadata": {},
   "outputs": [
    {
     "data": {
      "image/png": "[encoded data removed]",
      "text/plain": [
       "<Figure size 720x504 with 1 Axes>"
      ]
     },
     "metadata": {
      "needs_background": "light"
     },
     "output_type": "display_data"
    }
   ],
   "source": [
    "number_of_deposits_by_month = df.groupby(by=df[\"month_name\"]).size()\n",
    "\n",
    "_ = plt.plot(number_of_deposits_by_month)\n",
    "\n",
    "_ = plt.title(\"Number of deposits per month\")\n",
    "_ = plt.ylabel(\"Number of deposits\")\n",
    "_ = plt.xlabel(\"Month\")"
   ]
  },
  {
   "cell_type": "code",
   "execution_count": 21,
   "id": "2f501bbb",
   "metadata": {},
   "outputs": [
    {
     "data": {
      "image/png": "[encoded data removed]",
      "text/plain": [
       "<Figure size 720x504 with 1 Axes>"
      ]
     },
     "metadata": {
      "needs_background": "light"
     },
     "output_type": "display_data"
    }
   ],
   "source": [
    "deposit_amount_by_type = df.groupby(by=df[\"deposit_type\"])[\"deposit_amount\"].sum()\n",
    "\n",
    "\n",
    "_ = plt.bar(deposit_amount_by_type.index, deposit_amount_by_type)\n",
    "\n",
    "_ = plt.title(\"Deposit amount by type\")\n",
    "_ = plt.ylabel(\"Deposit amount\")\n",
    "_ = plt.xlabel(\"Deposit type\")"
   ]
  },
  {
   "cell_type": "code",
   "execution_count": 22,
   "id": "f9fad6e8",
   "metadata": {},
   "outputs": [
    {
     "data": {
      "image/png": "[encoded data removed]",
      "text/plain": [
       "<Figure size 720x504 with 1 Axes>"
      ]
     },
     "metadata": {
      "needs_background": "light"
     },
     "output_type": "display_data"
    }
   ],
   "source": [
    "deposit_amount_by_cadence = df.groupby(by=df[\"deposit_cadence\"])[\"deposit_amount\"].sum()\n",
    "\n",
    "\n",
    "_ = plt.bar(deposit_amount_by_cadence.index, deposit_amount_by_cadence)\n",
    "\n",
    "_ = plt.title(\"Deposit amount by cadence\")\n",
    "_ = plt.ylabel(\"Deposit amount\")\n",
    "_ = plt.xlabel(\"Deposit cadence\")"
   ]
  },
  {
   "cell_type": "code",
   "execution_count": 23,
   "id": "0276830f",
   "metadata": {},
   "outputs": [
    {
     "data": {
      "image/png": "[encoded data removed]",
      "text/plain": [
       "<Figure size 720x504 with 1 Axes>"
      ]
     },
     "metadata": {
      "needs_background": "light"
     },
     "output_type": "display_data"
    }
   ],
   "source": [
    "tmp_df = df.groupby(by=[df[\"deposit_cadence\"], df[\"month_name\"]])[\"deposit_amount\"].sum()\n",
    "\n",
    "ax = tmp_df.unstack(level=0).plot(kind='line')\n",
    "\n",
    "ax.set_xlabel(\"Month\")\n",
    "ax.set_ylabel(\"Deposit amount\")\n",
    "ax.set_title(\"Deposit amount per month and cadence\")\n",
    "plt.tight_layout()"
   ]
  },
  {
   "cell_type": "code",
   "execution_count": 24,
   "id": "762188c3",
   "metadata": {},
   "outputs": [
    {
     "data": {
      "image/png": "[encoded data removed]",
      "text/plain": [
       "<Figure size 720x504 with 1 Axes>"
      ]
     },
     "metadata": {
      "needs_background": "light"
     },
     "output_type": "display_data"
    }
   ],
   "source": [
    "tmp_df = df.groupby(by=[df[\"client_geographical_region\"], df[\"month_name\"]])[\"deposit_amount\"].sum()\n",
    "\n",
    "ax = tmp_df.unstack(level=0).plot(kind='line')\n",
    "\n",
    "ax.set_xlabel(\"Month\")\n",
    "ax.set_ylabel(\"Deposit amount\")\n",
    "ax.set_title(\"Deposit amount per month and region\")\n",
    "plt.tight_layout()\n"
   ]
  },
  {
   "cell_type": "code",
   "execution_count": 25,
   "id": "db2554bf",
   "metadata": {},
   "outputs": [
    {
     "data": {
      "image/png": "[encoded data removed]",
      "text/plain": [
       "<Figure size 720x504 with 1 Axes>"
      ]
     },
     "metadata": {
      "needs_background": "light"
     },
     "output_type": "display_data"
    }
   ],
   "source": [
    "tmp_df = df.groupby(by=[df[\"client_residence_status\"], df[\"month_name\"]])[\"deposit_amount\"].sum()\n",
    "\n",
    "ax = tmp_df.unstack(level=0).plot(kind='line')\n",
    "\n",
    "ax.set_xlabel(\"Month\")\n",
    "ax.set_ylabel(\"Deposit amount\")\n",
    "ax.set_title(\"Deposit amount per month and cadence\")\n",
    "plt.tight_layout()"
   ]
  },
  {
   "cell_type": "markdown",
   "id": "be9f3a32",
   "metadata": {},
   "source": [
    "Once we have gotten ourselves familiar with the data, we can move on to answer the questions."
   ]
  },
  {
   "cell_type": "markdown",
   "id": "0787cd9c",
   "metadata": {},
   "source": [
    "Question 1\n",
    "\n",
    "### Provide a quantitative assessment of whether the marketing campaign was successful. How and why did you choose your specific success metric(s)?\n",
    "\n",
    "This question can already be answered from the plots in the previous sections, especially the ones that show the deposit amount per month. We know that the ad campaign was running during the 3rd month of our data set (which is Month 8 in the current year, i.e., August). A huge spike can be noticed in the line plot titled \"Deposit amount per month\" between months 7 & 8, i.e., while the campaign was running. Since then, the deposit amount has been slowly decreasing but has remained at very higher levels than before the campaign. To put this into numbers:\n",
    "\n",
    "* During the month the campaign was running, Freedom Debt Relief received almost $10 million dollars increase in deposit amounts than previous months\n",
    "\n",
    "* In the months following the campaign, the total deposit amount starts to slowly decrease, but is still at higher levels than before the ad campaign: 8.5 million dollars in the month immediately following the campaign, and $8 million in the last month of the data\n",
    "\n",
    "* The cost of the campaign was 5 million dollar, and the incurred deposit amount increased by a total of 26.5 million dollar. A quick Google search for \"freedom debt relief pricing\" reveals an 18-25% fee incurred by the company for its services. We would assume that this is based on the residence status and the deposit cadence, but neither the data nor the task description provide any estimate or hint to this. Assuming the lowest, 18% fee for all clients, we observe an increase in profits to 4.77 million dollar (26.5M * 18%). While this looks like a loss of 230K dollar for the campaign, it is important to note that the trend shows this would have been much higher without the campaign, and it is very unlikely that the minimum fee is applied to all clients, so this number should be treated as the most pessimistic estimate.\n",
    "Another quantitative assessment that we can make is to see the number of new clients that were brought in during and after the market campaign."
   ]
  },
  {
   "cell_type": "code",
   "execution_count": 26,
   "id": "b900f34b",
   "metadata": {},
   "outputs": [
    {
     "data": {
      "text/plain": [
       "(34051,)"
      ]
     },
     "execution_count": 26,
     "metadata": {},
     "output_type": "execute_result"
    }
   ],
   "source": [
    "clients_before_campaign = df[(df[\"month_name\"] == \"Month 1\")\n",
    "                           | (df[\"month_name\"] == \"Month 2\")][\"client_id\"].unique()\n",
    "clients_before_campaign.shape"
   ]
  },
  {
   "cell_type": "code",
   "execution_count": 27,
   "id": "86dd78e6",
   "metadata": {},
   "outputs": [
    {
     "data": {
      "text/plain": [
       "(43806,)"
      ]
     },
     "execution_count": 27,
     "metadata": {},
     "output_type": "execute_result"
    }
   ],
   "source": [
    "clients_during_campaign = df[(df[\"month_name\"] == \"Month 3\")][\"client_id\"].unique()\n",
    "clients_during_campaign.shape"
   ]
  },
  {
   "cell_type": "code",
   "execution_count": 28,
   "id": "64bfc24b",
   "metadata": {},
   "outputs": [
    {
     "data": {
      "text/plain": [
       "(41862,)"
      ]
     },
     "execution_count": 28,
     "metadata": {},
     "output_type": "execute_result"
    }
   ],
   "source": [
    "clients_after_campaign = df[(df[\"month_name\"] == \"Month 4\")\n",
    "                          | (df[\"month_name\"] == \"Month 5\")][\"client_id\"].unique()\n",
    "clients_after_campaign.shape"
   ]
  },
  {
   "cell_type": "markdown",
   "id": "080d1fde",
   "metadata": {},
   "source": [
    "<b>Question:</b> How many new clients were acquired while the ad campaign was running?\n",
    "\n",
    "A new client is one that has made his first deposit while the campaign was running."
   ]
  },
  {
   "cell_type": "code",
   "execution_count": 29,
   "id": "3913f620",
   "metadata": {},
   "outputs": [
    {
     "data": {
      "text/plain": [
       "11544"
      ]
     },
     "execution_count": 29,
     "metadata": {},
     "output_type": "execute_result"
    }
   ],
   "source": [
    "len(set(clients_during_campaign).difference(set(clients_before_campaign)))"
   ]
  },
  {
   "cell_type": "markdown",
   "id": "00665a01",
   "metadata": {},
   "source": [
    "<b>Question:</b> How many after the campaign?"
   ]
  },
  {
   "cell_type": "code",
   "execution_count": 30,
   "id": "624137a3",
   "metadata": {},
   "outputs": [
    {
     "data": {
      "text/plain": [
       "752"
      ]
     },
     "execution_count": 30,
     "metadata": {},
     "output_type": "execute_result"
    }
   ],
   "source": [
    "len(\n",
    "    set(clients_after_campaign).difference(set(clients_before_campaign).union(set(clients_during_campaign)))\n",
    ")"
   ]
  },
  {
   "cell_type": "markdown",
   "id": "a30d497c",
   "metadata": {},
   "source": [
    "Another interesting insight that we can calculate is to see how the number of scheduled and actual deposits changes over time."
   ]
  },
  {
   "cell_type": "code",
   "execution_count": 31,
   "id": "046f33b5",
   "metadata": {},
   "outputs": [
    {
     "data": {
      "image/png": "[encoded data removed]",
      "text/plain": [
       "<Figure size 720x504 with 1 Axes>"
      ]
     },
     "metadata": {
      "needs_background": "light"
     },
     "output_type": "display_data"
    }
   ],
   "source": [
    "temp_df = df.groupby(by=[df[\"deposit_type\"], df[\"month_name\"]])[\"deposit_type\"].count()\n",
    "\n",
    "ax = temp_df.unstack(level=0).plot(kind='line')\n",
    "\n",
    "ax.set_xlabel(\"Month\")\n",
    "ax.set_ylabel(\"Deposit amount\")\n",
    "ax.set_title(\"Deposit amount per month and type\")\n",
    "plt.tight_layout()"
   ]
  },
  {
   "cell_type": "markdown",
   "id": "bda4aac0",
   "metadata": {},
   "source": [
    "Question 2\n",
    "Based on the provided data, how would you recommend campaign strategy be adjusted in the future to improve performance?\n",
    "\n",
    "Almost all of the plots show similar patterns through time and it is difficult to make any suggestions.\n",
    "\n",
    "One thing that could be explored more is targeted marketing. We notice that most of the people in the data are middle-aged (40-60 years) and most of them are home owners. We can observe this in the age histogram and the count per residence status in the EDA section.\n",
    "\n",
    "In the next plot, we will show the deposit amount changing through time and age group (age divided by 10)."
   ]
  },
  {
   "cell_type": "code",
   "execution_count": 32,
   "id": "63486ed5",
   "metadata": {},
   "outputs": [
    {
     "data": {
      "text/html": [
       "<div>\n",
       "<style scoped>\n",
       "    .dataframe tbody tr th:only-of-type {\n",
       "        vertical-align: middle;\n",
       "    }\n",
       "\n",
       "    .dataframe tbody tr th {\n",
       "        vertical-align: top;\n",
       "    }\n",
       "\n",
       "    .dataframe thead th {\n",
       "        text-align: right;\n",
       "    }\n",
       "</style>\n",
       "<table border=\"1\" class=\"dataframe\">\n",
       "  <thead>\n",
       "    <tr style=\"text-align: right;\">\n",
       "      <th></th>\n",
       "      <th>client_id</th>\n",
       "      <th>client_geographical_region</th>\n",
       "      <th>client_residence_status</th>\n",
       "      <th>client_age</th>\n",
       "      <th>deposit_type</th>\n",
       "      <th>deposit_amount</th>\n",
       "      <th>deposit_cadence</th>\n",
       "      <th>deposit_date</th>\n",
       "      <th>month_name</th>\n",
       "      <th>age_group</th>\n",
       "    </tr>\n",
       "  </thead>\n",
       "  <tbody>\n",
       "    <tr>\n",
       "      <th>0</th>\n",
       "      <td>538839486596724</td>\n",
       "      <td>Northeast</td>\n",
       "      <td>Rent</td>\n",
       "      <td>91</td>\n",
       "      <td>Actual Deposit</td>\n",
       "      <td>10000.0</td>\n",
       "      <td>Extra</td>\n",
       "      <td>2019-07-11</td>\n",
       "      <td>Month 2</td>\n",
       "      <td>9</td>\n",
       "    </tr>\n",
       "    <tr>\n",
       "      <th>1</th>\n",
       "      <td>773610304672603</td>\n",
       "      <td>West</td>\n",
       "      <td>Rent</td>\n",
       "      <td>24</td>\n",
       "      <td>Scheduled Deposit</td>\n",
       "      <td>100.0</td>\n",
       "      <td>Biweekly</td>\n",
       "      <td>2019-07-11</td>\n",
       "      <td>Month 2</td>\n",
       "      <td>2</td>\n",
       "    </tr>\n",
       "    <tr>\n",
       "      <th>2</th>\n",
       "      <td>773610304672603</td>\n",
       "      <td>West</td>\n",
       "      <td>Rent</td>\n",
       "      <td>24</td>\n",
       "      <td>Actual Deposit</td>\n",
       "      <td>100.0</td>\n",
       "      <td>Biweekly</td>\n",
       "      <td>2019-07-11</td>\n",
       "      <td>Month 2</td>\n",
       "      <td>2</td>\n",
       "    </tr>\n",
       "    <tr>\n",
       "      <th>3</th>\n",
       "      <td>552219454660531</td>\n",
       "      <td>West</td>\n",
       "      <td>Own</td>\n",
       "      <td>85</td>\n",
       "      <td>Scheduled Deposit</td>\n",
       "      <td>290.0</td>\n",
       "      <td>Biweekly</td>\n",
       "      <td>2019-07-11</td>\n",
       "      <td>Month 2</td>\n",
       "      <td>8</td>\n",
       "    </tr>\n",
       "    <tr>\n",
       "      <th>4</th>\n",
       "      <td>55107102575545</td>\n",
       "      <td>Midwest</td>\n",
       "      <td>Own</td>\n",
       "      <td>83</td>\n",
       "      <td>Scheduled Deposit</td>\n",
       "      <td>438.0</td>\n",
       "      <td>Monthly</td>\n",
       "      <td>2019-07-11</td>\n",
       "      <td>Month 2</td>\n",
       "      <td>8</td>\n",
       "    </tr>\n",
       "    <tr>\n",
       "      <th>...</th>\n",
       "      <td>...</td>\n",
       "      <td>...</td>\n",
       "      <td>...</td>\n",
       "      <td>...</td>\n",
       "      <td>...</td>\n",
       "      <td>...</td>\n",
       "      <td>...</td>\n",
       "      <td>...</td>\n",
       "      <td>...</td>\n",
       "      <td>...</td>\n",
       "    </tr>\n",
       "    <tr>\n",
       "      <th>480389</th>\n",
       "      <td>495905820523476</td>\n",
       "      <td>West</td>\n",
       "      <td>Own</td>\n",
       "      <td>80</td>\n",
       "      <td>Actual Deposit</td>\n",
       "      <td>920.0</td>\n",
       "      <td>Monthly</td>\n",
       "      <td>2019-07-20</td>\n",
       "      <td>Month 2</td>\n",
       "      <td>8</td>\n",
       "    </tr>\n",
       "    <tr>\n",
       "      <th>480390</th>\n",
       "      <td>639239952445612</td>\n",
       "      <td>Northeast</td>\n",
       "      <td>Own</td>\n",
       "      <td>80</td>\n",
       "      <td>Scheduled Deposit</td>\n",
       "      <td>224.0</td>\n",
       "      <td>Monthly</td>\n",
       "      <td>2019-07-20</td>\n",
       "      <td>Month 2</td>\n",
       "      <td>8</td>\n",
       "    </tr>\n",
       "    <tr>\n",
       "      <th>480391</th>\n",
       "      <td>639239952445612</td>\n",
       "      <td>Northeast</td>\n",
       "      <td>Own</td>\n",
       "      <td>80</td>\n",
       "      <td>Actual Deposit</td>\n",
       "      <td>224.0</td>\n",
       "      <td>Monthly</td>\n",
       "      <td>2019-07-20</td>\n",
       "      <td>Month 2</td>\n",
       "      <td>8</td>\n",
       "    </tr>\n",
       "    <tr>\n",
       "      <th>480392</th>\n",
       "      <td>585677614443848</td>\n",
       "      <td>West</td>\n",
       "      <td>Own</td>\n",
       "      <td>80</td>\n",
       "      <td>Scheduled Deposit</td>\n",
       "      <td>438.0</td>\n",
       "      <td>Monthly</td>\n",
       "      <td>2019-07-20</td>\n",
       "      <td>Month 2</td>\n",
       "      <td>8</td>\n",
       "    </tr>\n",
       "    <tr>\n",
       "      <th>480393</th>\n",
       "      <td>585677614443848</td>\n",
       "      <td>West</td>\n",
       "      <td>Own</td>\n",
       "      <td>80</td>\n",
       "      <td>Actual Deposit</td>\n",
       "      <td>438.0</td>\n",
       "      <td>Monthly</td>\n",
       "      <td>2019-07-20</td>\n",
       "      <td>Month 2</td>\n",
       "      <td>8</td>\n",
       "    </tr>\n",
       "  </tbody>\n",
       "</table>\n",
       "<p>480394 rows × 10 columns</p>\n",
       "</div>"
      ],
      "text/plain": [
       "              client_id client_geographical_region client_residence_status  \\\n",
       "0       538839486596724                  Northeast                    Rent   \n",
       "1       773610304672603                       West                    Rent   \n",
       "2       773610304672603                       West                    Rent   \n",
       "3       552219454660531                       West                     Own   \n",
       "4        55107102575545                    Midwest                     Own   \n",
       "...                 ...                        ...                     ...   \n",
       "480389  495905820523476                       West                     Own   \n",
       "480390  639239952445612                  Northeast                     Own   \n",
       "480391  639239952445612                  Northeast                     Own   \n",
       "480392  585677614443848                       West                     Own   \n",
       "480393  585677614443848                       West                     Own   \n",
       "\n",
       "        client_age       deposit_type  deposit_amount deposit_cadence  \\\n",
       "0               91     Actual Deposit         10000.0           Extra   \n",
       "1               24  Scheduled Deposit           100.0        Biweekly   \n",
       "2               24     Actual Deposit           100.0        Biweekly   \n",
       "3               85  Scheduled Deposit           290.0        Biweekly   \n",
       "4               83  Scheduled Deposit           438.0         Monthly   \n",
       "...            ...                ...             ...             ...   \n",
       "480389          80     Actual Deposit           920.0         Monthly   \n",
       "480390          80  Scheduled Deposit           224.0         Monthly   \n",
       "480391          80     Actual Deposit           224.0         Monthly   \n",
       "480392          80  Scheduled Deposit           438.0         Monthly   \n",
       "480393          80     Actual Deposit           438.0         Monthly   \n",
       "\n",
       "       deposit_date month_name  age_group  \n",
       "0        2019-07-11    Month 2          9  \n",
       "1        2019-07-11    Month 2          2  \n",
       "2        2019-07-11    Month 2          2  \n",
       "3        2019-07-11    Month 2          8  \n",
       "4        2019-07-11    Month 2          8  \n",
       "...             ...        ...        ...  \n",
       "480389   2019-07-20    Month 2          8  \n",
       "480390   2019-07-20    Month 2          8  \n",
       "480391   2019-07-20    Month 2          8  \n",
       "480392   2019-07-20    Month 2          8  \n",
       "480393   2019-07-20    Month 2          8  \n",
       "\n",
       "[480394 rows x 10 columns]"
      ]
     },
     "execution_count": 32,
     "metadata": {},
     "output_type": "execute_result"
    }
   ],
   "source": [
    "def discretize_age(row):\n",
    "    return int(row.client_age / 10)\n",
    "\n",
    "dff = df.copy(deep=True)\n",
    "dff[\"age_group\"] = dff.apply(discretize_age, axis=1)\n",
    "dff"
   ]
  },
  {
   "cell_type": "code",
   "execution_count": 33,
   "id": "15b9ac36",
   "metadata": {},
   "outputs": [
    {
     "data": {
      "image/png": "[encoded data removed]",
      "text/plain": [
       "<Figure size 720x504 with 1 Axes>"
      ]
     },
     "metadata": {
      "needs_background": "light"
     },
     "output_type": "display_data"
    }
   ],
   "source": [
    "tmp_df = dff.groupby(by=[dff[\"age_group\"], dff[\"month_name\"]]).size()\n",
    "\n",
    "ax = tmp_df.unstack(level=0).plot(kind='line')\n",
    "\n",
    "ax.set_xlabel(\"Month\")\n",
    "ax.set_ylabel(\"Deposit amount\")\n",
    "ax.set_title(\"Deposit amount per month and age-group\")\n",
    "plt.tight_layout()"
   ]
  },
  {
   "cell_type": "markdown",
   "id": "8f734238",
   "metadata": {},
   "source": [
    "We observe big increase in middle-aged customers and little to no increase in very young or very old customers. In the following analysis, we focus on the middle-aged sub-group of customers. We think that better engagement with them could result in more deposits."
   ]
  },
  {
   "cell_type": "code",
   "execution_count": 34,
   "id": "0ad3c3da",
   "metadata": {},
   "outputs": [
    {
     "data": {
      "text/plain": [
       "(181068, 9)"
      ]
     },
     "execution_count": 34,
     "metadata": {},
     "output_type": "execute_result"
    }
   ],
   "source": [
    "df_q2 = df[(df[\"client_residence_status\"] == \"Own\") \n",
    "         & (df[\"client_age\"] <= 60) \n",
    "         & (df[\"client_age\"] >= 40)]\n",
    "df_q2.shape"
   ]
  },
  {
   "cell_type": "code",
   "execution_count": 35,
   "id": "4769c87f",
   "metadata": {},
   "outputs": [
    {
     "data": {
      "image/png": "[encoded data removed]",
      "text/plain": [
       "<Figure size 720x504 with 1 Axes>"
      ]
     },
     "metadata": {
      "needs_background": "light"
     },
     "output_type": "display_data"
    }
   ],
   "source": [
    "temp_df = df_q2.groupby(by=[df_q2[\"deposit_type\"], df_q2[\"month_name\"]])[\"deposit_type\"].count()\n",
    "\n",
    "ax = temp_df.unstack(level=0).plot(kind='line')\n",
    "ax.set_xlabel(\"Month\")\n",
    "ax.set_ylabel(\"Deposit amount\")\n",
    "ax.set_title(\"Deposit amount per month and type\")\n",
    "plt.tight_layout()"
   ]
  },
  {
   "cell_type": "markdown",
   "id": "b5f7f1f7",
   "metadata": {},
   "source": [
    "This sub-group of customers is responsible for 42% of the extra deposit amount, and yet represents only 37% of clients."
   ]
  },
  {
   "cell_type": "code",
   "execution_count": 36,
   "id": "93a5350a",
   "metadata": {},
   "outputs": [
    {
     "data": {
      "text/plain": [
       "0.4234867523021417"
      ]
     },
     "execution_count": 36,
     "metadata": {},
     "output_type": "execute_result"
    }
   ],
   "source": [
    "extra_deposit_df_q2 = df_q2[df_q2[\"deposit_cadence\"] == \"Extra\"][\"deposit_amount\"].sum()\n",
    "extra_deposit_df = df[df[\"deposit_cadence\"] == \"Extra\"][\"deposit_amount\"].sum()\n",
    "\n",
    "extra_deposit_df_q2 / extra_deposit_df"
   ]
  },
  {
   "cell_type": "code",
   "execution_count": 37,
   "id": "a0fc194e",
   "metadata": {},
   "outputs": [
    {
     "data": {
      "text/plain": [
       "0.3769156150992727"
      ]
     },
     "execution_count": 37,
     "metadata": {},
     "output_type": "execute_result"
    }
   ],
   "source": [
    "df_q2.shape[0] / df.shape[0]"
   ]
  },
  {
   "cell_type": "code",
   "execution_count": 38,
   "id": "acf49f13",
   "metadata": {},
   "outputs": [
    {
     "data": {
      "text/plain": [
       "West         3570\n",
       "South        1991\n",
       "Midwest      1486\n",
       "Northeast    1300\n",
       "Name: client_geographical_region, dtype: int64"
      ]
     },
     "execution_count": 38,
     "metadata": {},
     "output_type": "execute_result"
    }
   ],
   "source": [
    "df[df[\"deposit_cadence\"] == \"Extra\"][\"client_geographical_region\"].value_counts()"
   ]
  },
  {
   "cell_type": "code",
   "execution_count": 39,
   "id": "13dbff1e",
   "metadata": {},
   "outputs": [
    {
     "data": {
      "text/plain": [
       "Own     5856\n",
       "Rent    2491\n",
       "Name: client_residence_status, dtype: int64"
      ]
     },
     "execution_count": 39,
     "metadata": {},
     "output_type": "execute_result"
    }
   ],
   "source": [
    "df[df[\"deposit_cadence\"] == \"Extra\"][\"client_residence_status\"].value_counts()"
   ]
  },
  {
   "cell_type": "code",
   "execution_count": 40,
   "id": "77ea0731",
   "metadata": {},
   "outputs": [
    {
     "data": {
      "text/plain": [
       "Actual Deposit    8347\n",
       "Name: deposit_type, dtype: int64"
      ]
     },
     "execution_count": 40,
     "metadata": {},
     "output_type": "execute_result"
    }
   ],
   "source": [
    "df[df[\"deposit_cadence\"] == \"Extra\"][\"deposit_type\"].value_counts()"
   ]
  },
  {
   "cell_type": "code",
   "execution_count": 41,
   "id": "ac5f3696",
   "metadata": {},
   "outputs": [
    {
     "data": {
      "text/plain": [
       "Month 3    2235\n",
       "Month 4    1898\n",
       "Month 5    1846\n",
       "Month 2    1274\n",
       "Month 1    1094\n",
       "Name: month_name, dtype: int64"
      ]
     },
     "execution_count": 41,
     "metadata": {},
     "output_type": "execute_result"
    }
   ],
   "source": [
    "df[df[\"deposit_cadence\"] == \"Extra\"][\"month_name\"].value_counts()"
   ]
  },
  {
   "cell_type": "markdown",
   "id": "753de524",
   "metadata": {},
   "source": [
    "Some key points based on the previous cells:\n",
    "\n",
    "* Most extra deposits are observed in the West region as expected. This distribution closely matches the distribution of other deposit types as well\n",
    "* Clients who own their residence are approx. 2.33 times as likely to deposit extra amount than clients who rent their residence\n",
    "* Most extra deposits are observed in Month 3, when the campaign was running. Post-campaign numbers for extra deposits are 33% higher than pre-campaign."
   ]
  },
  {
   "cell_type": "markdown",
   "id": "c29f0fef",
   "metadata": {},
   "source": [
    "<b>Question 3</b>\n",
    "How do you think campaign performance would have changed if we did not run the campaign in Month 3, but instead postponed it until month 6? Provide an incremental number versus your result in Question #1.\n",
    "\n",
    "One way we can simulate the postponement of the campaign is to \"postpone\" the deposits coming from new clients who were acquired during the third month. We (strongly) assume that the clients who made their first deposit in the third month in the data set are acquired due to the campaign; this is not necessarily correct, but for the sake of the exercise we can treat it as if it were.\n",
    "\n",
    "Technically speaking, this means we should take the following steps.\n",
    "\n",
    "Identify which clients made their first deposit in the third month, i.e., were acquired because of the campaign. (we have already done that in previous sections)\n",
    "Postpone their deposits until after the fifth month, i.e., add exactly three months to the date of their deposit.\n",
    "Re-run the same analyses from Question 1 and make summarise the difference in the results."
   ]
  },
  {
   "cell_type": "code",
   "execution_count": 42,
   "id": "35a92f0f",
   "metadata": {},
   "outputs": [],
   "source": [
    "df_copy = df.copy(deep=True)"
   ]
  },
  {
   "cell_type": "code",
   "execution_count": 43,
   "id": "e849111e",
   "metadata": {},
   "outputs": [],
   "source": [
    "new_clients = set(clients_during_campaign).difference(set(clients_before_campaign))"
   ]
  },
  {
   "cell_type": "code",
   "execution_count": 44,
   "id": "a505ae2f",
   "metadata": {},
   "outputs": [],
   "source": [
    "import datetime\n",
    "\n",
    "def simulate_campaign_postponement(row):\n",
    "    if row.client_id in new_clients:\n",
    "        row.deposit_date = pd.to_datetime(row.deposit_date) + datetime.timedelta(days=90)\n",
    "        if row.month_name == \"Month 3\":\n",
    "            row.month_name = \"Month 6\"\n",
    "        elif row.month_name == \"Month 4\":\n",
    "            row.month_name = \"Month 7\"\n",
    "        elif row.month_name == \"Month 5\":\n",
    "            row.month_name = \"Month 8\"\n",
    "    else:\n",
    "        row.deposit_date = pd.to_datetime(row.deposit_date)\n",
    "    return row\n",
    "\n",
    "df_copy = df_copy.apply(func=simulate_campaign_postponement, axis=1)"
   ]
  },
  {
   "cell_type": "code",
   "execution_count": 45,
   "id": "ed057715",
   "metadata": {},
   "outputs": [
    {
     "data": {
      "text/plain": [
       "Timestamp('2020-01-29 00:00:00')"
      ]
     },
     "execution_count": 45,
     "metadata": {},
     "output_type": "execute_result"
    }
   ],
   "source": [
    "df_copy[\"deposit_date\"].max()"
   ]
  },
  {
   "cell_type": "code",
   "execution_count": 46,
   "id": "38009664",
   "metadata": {},
   "outputs": [
    {
     "name": "stdout",
     "output_type": "stream",
     "text": [
      "Deposit amount per month month_name\n",
      "Month 1    29284830.86\n",
      "Month 2    29886431.27\n",
      "Month 3    30002419.69\n",
      "Month 4    27306769.25\n",
      "Month 5    28138150.45\n",
      "Month 6     9672637.41\n",
      "Month 7    11209050.48\n",
      "Month 8     9943024.78\n",
      "Name: deposit_amount, dtype: float64\n"
     ]
    },
    {
     "data": {
      "image/png": "[encoded data removed]",
      "text/plain": [
       "<Figure size 720x504 with 1 Axes>"
      ]
     },
     "metadata": {
      "needs_background": "light"
     },
     "output_type": "display_data"
    }
   ],
   "source": [
    "deposit_amount_by_month = df_copy.groupby(by=df_copy[\"month_name\"])[\"deposit_amount\"].sum()\n",
    "\n",
    "print(\"Deposit amount per month\", deposit_amount_by_month)\n",
    "\n",
    "_ = plt.plot(deposit_amount_by_month)\n",
    "_ = plt.title(\"Deposit amount by month\")\n",
    "_ = plt.ylabel(\"Deposit amount\")\n",
    "_ = plt.xlabel(\"Month\")"
   ]
  },
  {
   "cell_type": "markdown",
   "id": "39d28618",
   "metadata": {},
   "source": [
    "The plots look a bit weird, because in months 6, 7, and 8 we have only the data coming from the new customers, and this is going to be much lower than usual.\n",
    "\n",
    "To simulate the deposits coming from the existing customers, we can simply add an average deposit amount from the previous months."
   ]
  },
  {
   "cell_type": "code",
   "execution_count": 47,
   "id": "541e6114",
   "metadata": {},
   "outputs": [],
   "source": [
    "avg_monthly_deposit = (df_copy.groupby(by=df_copy[\"month_name\"])[\"deposit_amount\"].sum()).mean()"
   ]
  },
  {
   "cell_type": "code",
   "execution_count": 48,
   "id": "157f0476",
   "metadata": {},
   "outputs": [
    {
     "data": {
      "text/plain": [
       "21930414.273749996"
      ]
     },
     "execution_count": 48,
     "metadata": {},
     "output_type": "execute_result"
    }
   ],
   "source": [
    "avg_monthly_deposit"
   ]
  },
  {
   "cell_type": "code",
   "execution_count": 49,
   "id": "5f9f8419",
   "metadata": {},
   "outputs": [
    {
     "name": "stdout",
     "output_type": "stream",
     "text": [
      "month_name\n",
      "Month 1    2.928483e+07\n",
      "Month 2    2.988643e+07\n",
      "Month 3    3.000242e+07\n",
      "Month 4    2.730677e+07\n",
      "Month 5    2.813815e+07\n",
      "Month 6    3.160305e+07\n",
      "Month 7    3.313946e+07\n",
      "Month 8    3.187344e+07\n",
      "Name: deposit_amount, dtype: float64\n"
     ]
    },
    {
     "data": {
      "image/png": "[encoded data removed]",
      "text/plain": [
       "<Figure size 720x504 with 1 Axes>"
      ]
     },
     "metadata": {
      "needs_background": "light"
     },
     "output_type": "display_data"
    }
   ],
   "source": [
    "deposit_amount_by_month = df_copy.groupby(by=df_copy[\"month_name\"])[\"deposit_amount\"].sum()\n",
    "\n",
    "\n",
    "deposit_amount_by_month.at[\"Month 6\"] += avg_monthly_deposit\n",
    "deposit_amount_by_month.at[\"Month 7\"] += avg_monthly_deposit\n",
    "deposit_amount_by_month.at[\"Month 8\"] += avg_monthly_deposit\n",
    "\n",
    "print(deposit_amount_by_month)\n",
    "\n",
    "\n",
    "_ = plt.plot(deposit_amount_by_month)\n",
    "\n",
    "_ = plt.title(\"Deposit amount by month\")\n",
    "_ = plt.ylabel(\"Deposit amount\")\n",
    "_ = plt.xlabel(\"Month\")"
   ]
  },
  {
   "cell_type": "markdown",
   "id": "33c4d23e",
   "metadata": {},
   "source": [
    "The simulation shows quite an increase in deposits. Following are some key points to summarise the difference from the answer provided in Question 1.\n",
    "\n",
    "* During the month the campaign was running, Freedom Debt Relief received almost 2.5 million dollars increase in deposit amounts than previous months, compared to 10 million in Question 1.\n",
    "\n",
    "* In the month following the campaign, the total deposit amount continues to increase to reach its maximum at 33 million dollars. In the last month, it drops to 31 million dollars but remains on a higher level than pre-campaign.\n",
    "\n",
    "* The cost of the campaign was 5 million, and the incurred deposit amount increased by a total of 8 million. In Question 1 this number was much higher: 26 million dollars , and we determined that that was borderline profitable. So, 8 million dollars is much lower, and we conclude that postponing the campaign would have not been the right choice."
   ]
  }
 ],
 "metadata": {
  "kernelspec": {
   "display_name": "Python 3 (ipykernel)",
   "language": "python",
   "name": "python3"
  },
  "language_info": {
   "codemirror_mode": {
    "name": "ipython",
    "version": 3
   },
   "file_extension": ".py",
   "mimetype": "text/x-python",
   "name": "python",
   "nbconvert_exporter": "python",
   "pygments_lexer": "ipython3",
   "version": "3.9.12"
  }
 },
 "nbformat": 4,
 "nbformat_minor": 5
}
